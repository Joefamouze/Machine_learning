{
  "nbformat": 4,
  "nbformat_minor": 0,
  "metadata": {
    "colab": {
      "name": "Fellowshipai_Jonathan.ipynb",
      "provenance": [],
      "authorship_tag": "ABX9TyMf/QX+hPZVkqMrS5zZMgI6",
      "include_colab_link": true
    },
    "kernelspec": {
      "name": "python3",
      "display_name": "Python 3"
    },
    "language_info": {
      "name": "python"
    },
    "accelerator": "GPU",
    "widgets": {
      "application/vnd.jupyter.widget-state+json": {
        "59533fb1c5da4606b1392b21dfd6bd24": {
          "model_module": "@jupyter-widgets/controls",
          "model_name": "HBoxModel",
          "state": {
            "_view_name": "HBoxView",
            "_dom_classes": [],
            "_model_name": "HBoxModel",
            "_view_module": "@jupyter-widgets/controls",
            "_model_module_version": "1.5.0",
            "_view_count": null,
            "_view_module_version": "1.5.0",
            "box_style": "",
            "layout": "IPY_MODEL_d8c0a2c13f214cc5a753d2948e4d9b0b",
            "_model_module": "@jupyter-widgets/controls",
            "children": [
              "IPY_MODEL_8640d1e847504cfeb798e2dd50d22853",
              "IPY_MODEL_213156e5d1e94f1ba5a4377f9b911f32"
            ]
          }
        },
        "d8c0a2c13f214cc5a753d2948e4d9b0b": {
          "model_module": "@jupyter-widgets/base",
          "model_name": "LayoutModel",
          "state": {
            "_view_name": "LayoutView",
            "grid_template_rows": null,
            "right": null,
            "justify_content": null,
            "_view_module": "@jupyter-widgets/base",
            "overflow": null,
            "_model_module_version": "1.2.0",
            "_view_count": null,
            "flex_flow": null,
            "width": null,
            "min_width": null,
            "border": null,
            "align_items": null,
            "bottom": null,
            "_model_module": "@jupyter-widgets/base",
            "top": null,
            "grid_column": null,
            "overflow_y": null,
            "overflow_x": null,
            "grid_auto_flow": null,
            "grid_area": null,
            "grid_template_columns": null,
            "flex": null,
            "_model_name": "LayoutModel",
            "justify_items": null,
            "grid_row": null,
            "max_height": null,
            "align_content": null,
            "visibility": null,
            "align_self": null,
            "height": null,
            "min_height": null,
            "padding": null,
            "grid_auto_rows": null,
            "grid_gap": null,
            "max_width": null,
            "order": null,
            "_view_module_version": "1.2.0",
            "grid_template_areas": null,
            "object_position": null,
            "object_fit": null,
            "grid_auto_columns": null,
            "margin": null,
            "display": null,
            "left": null
          }
        },
        "8640d1e847504cfeb798e2dd50d22853": {
          "model_module": "@jupyter-widgets/controls",
          "model_name": "FloatProgressModel",
          "state": {
            "_view_name": "ProgressView",
            "style": "IPY_MODEL_24ff39af4df549539566aa332e9fca95",
            "_dom_classes": [],
            "description": "Dl Completed...: 100%",
            "_model_name": "FloatProgressModel",
            "bar_style": "success",
            "max": 1,
            "_view_module": "@jupyter-widgets/controls",
            "_model_module_version": "1.5.0",
            "value": 1,
            "_view_count": null,
            "_view_module_version": "1.5.0",
            "orientation": "horizontal",
            "min": 0,
            "description_tooltip": null,
            "_model_module": "@jupyter-widgets/controls",
            "layout": "IPY_MODEL_f1e0c5344052457fb2f1e700194a21fc"
          }
        },
        "213156e5d1e94f1ba5a4377f9b911f32": {
          "model_module": "@jupyter-widgets/controls",
          "model_name": "HTMLModel",
          "state": {
            "_view_name": "HTMLView",
            "style": "IPY_MODEL_7746097a36d840c2bebaaba71d23974a",
            "_dom_classes": [],
            "description": "",
            "_model_name": "HTMLModel",
            "placeholder": "​",
            "_view_module": "@jupyter-widgets/controls",
            "_model_module_version": "1.5.0",
            "value": " 4/4 [03:39&lt;00:00, 54.82s/ url]",
            "_view_count": null,
            "_view_module_version": "1.5.0",
            "description_tooltip": null,
            "_model_module": "@jupyter-widgets/controls",
            "layout": "IPY_MODEL_41199a4a97484c9684df2fcdc9710664"
          }
        },
        "24ff39af4df549539566aa332e9fca95": {
          "model_module": "@jupyter-widgets/controls",
          "model_name": "ProgressStyleModel",
          "state": {
            "_view_name": "StyleView",
            "_model_name": "ProgressStyleModel",
            "description_width": "initial",
            "_view_module": "@jupyter-widgets/base",
            "_model_module_version": "1.5.0",
            "_view_count": null,
            "_view_module_version": "1.2.0",
            "bar_color": null,
            "_model_module": "@jupyter-widgets/controls"
          }
        },
        "f1e0c5344052457fb2f1e700194a21fc": {
          "model_module": "@jupyter-widgets/base",
          "model_name": "LayoutModel",
          "state": {
            "_view_name": "LayoutView",
            "grid_template_rows": null,
            "right": null,
            "justify_content": null,
            "_view_module": "@jupyter-widgets/base",
            "overflow": null,
            "_model_module_version": "1.2.0",
            "_view_count": null,
            "flex_flow": null,
            "width": null,
            "min_width": null,
            "border": null,
            "align_items": null,
            "bottom": null,
            "_model_module": "@jupyter-widgets/base",
            "top": null,
            "grid_column": null,
            "overflow_y": null,
            "overflow_x": null,
            "grid_auto_flow": null,
            "grid_area": null,
            "grid_template_columns": null,
            "flex": null,
            "_model_name": "LayoutModel",
            "justify_items": null,
            "grid_row": null,
            "max_height": null,
            "align_content": null,
            "visibility": null,
            "align_self": null,
            "height": null,
            "min_height": null,
            "padding": null,
            "grid_auto_rows": null,
            "grid_gap": null,
            "max_width": null,
            "order": null,
            "_view_module_version": "1.2.0",
            "grid_template_areas": null,
            "object_position": null,
            "object_fit": null,
            "grid_auto_columns": null,
            "margin": null,
            "display": null,
            "left": null
          }
        },
        "7746097a36d840c2bebaaba71d23974a": {
          "model_module": "@jupyter-widgets/controls",
          "model_name": "DescriptionStyleModel",
          "state": {
            "_view_name": "StyleView",
            "_model_name": "DescriptionStyleModel",
            "description_width": "",
            "_view_module": "@jupyter-widgets/base",
            "_model_module_version": "1.5.0",
            "_view_count": null,
            "_view_module_version": "1.2.0",
            "_model_module": "@jupyter-widgets/controls"
          }
        },
        "41199a4a97484c9684df2fcdc9710664": {
          "model_module": "@jupyter-widgets/base",
          "model_name": "LayoutModel",
          "state": {
            "_view_name": "LayoutView",
            "grid_template_rows": null,
            "right": null,
            "justify_content": null,
            "_view_module": "@jupyter-widgets/base",
            "overflow": null,
            "_model_module_version": "1.2.0",
            "_view_count": null,
            "flex_flow": null,
            "width": null,
            "min_width": null,
            "border": null,
            "align_items": null,
            "bottom": null,
            "_model_module": "@jupyter-widgets/base",
            "top": null,
            "grid_column": null,
            "overflow_y": null,
            "overflow_x": null,
            "grid_auto_flow": null,
            "grid_area": null,
            "grid_template_columns": null,
            "flex": null,
            "_model_name": "LayoutModel",
            "justify_items": null,
            "grid_row": null,
            "max_height": null,
            "align_content": null,
            "visibility": null,
            "align_self": null,
            "height": null,
            "min_height": null,
            "padding": null,
            "grid_auto_rows": null,
            "grid_gap": null,
            "max_width": null,
            "order": null,
            "_view_module_version": "1.2.0",
            "grid_template_areas": null,
            "object_position": null,
            "object_fit": null,
            "grid_auto_columns": null,
            "margin": null,
            "display": null,
            "left": null
          }
        },
        "f70fe2a54fa04d96986f2e15c3261efe": {
          "model_module": "@jupyter-widgets/controls",
          "model_name": "HBoxModel",
          "state": {
            "_view_name": "HBoxView",
            "_dom_classes": [],
            "_model_name": "HBoxModel",
            "_view_module": "@jupyter-widgets/controls",
            "_model_module_version": "1.5.0",
            "_view_count": null,
            "_view_module_version": "1.5.0",
            "box_style": "",
            "layout": "IPY_MODEL_b404226ee0fb4e57acf2837fdc6648f2",
            "_model_module": "@jupyter-widgets/controls",
            "children": [
              "IPY_MODEL_664b76cf3b4b4918a8892dfa56753dae",
              "IPY_MODEL_43e83944c0f54c5889d22a6ff1576c87"
            ]
          }
        },
        "b404226ee0fb4e57acf2837fdc6648f2": {
          "model_module": "@jupyter-widgets/base",
          "model_name": "LayoutModel",
          "state": {
            "_view_name": "LayoutView",
            "grid_template_rows": null,
            "right": null,
            "justify_content": null,
            "_view_module": "@jupyter-widgets/base",
            "overflow": null,
            "_model_module_version": "1.2.0",
            "_view_count": null,
            "flex_flow": null,
            "width": null,
            "min_width": null,
            "border": null,
            "align_items": null,
            "bottom": null,
            "_model_module": "@jupyter-widgets/base",
            "top": null,
            "grid_column": null,
            "overflow_y": null,
            "overflow_x": null,
            "grid_auto_flow": null,
            "grid_area": null,
            "grid_template_columns": null,
            "flex": null,
            "_model_name": "LayoutModel",
            "justify_items": null,
            "grid_row": null,
            "max_height": null,
            "align_content": null,
            "visibility": null,
            "align_self": null,
            "height": null,
            "min_height": null,
            "padding": null,
            "grid_auto_rows": null,
            "grid_gap": null,
            "max_width": null,
            "order": null,
            "_view_module_version": "1.2.0",
            "grid_template_areas": null,
            "object_position": null,
            "object_fit": null,
            "grid_auto_columns": null,
            "margin": null,
            "display": null,
            "left": null
          }
        },
        "664b76cf3b4b4918a8892dfa56753dae": {
          "model_module": "@jupyter-widgets/controls",
          "model_name": "FloatProgressModel",
          "state": {
            "_view_name": "ProgressView",
            "style": "IPY_MODEL_9b349e4fb3ce450a85812556bb826544",
            "_dom_classes": [],
            "description": "Dl Size...: 100%",
            "_model_name": "FloatProgressModel",
            "bar_style": "success",
            "max": 1,
            "_view_module": "@jupyter-widgets/controls",
            "_model_module_version": "1.5.0",
            "value": 1,
            "_view_count": null,
            "_view_module_version": "1.5.0",
            "orientation": "horizontal",
            "min": 0,
            "description_tooltip": null,
            "_model_module": "@jupyter-widgets/controls",
            "layout": "IPY_MODEL_cc9815d7ee214bf29441cf8efaf2bc1f"
          }
        },
        "43e83944c0f54c5889d22a6ff1576c87": {
          "model_module": "@jupyter-widgets/controls",
          "model_name": "HTMLModel",
          "state": {
            "_view_name": "HTMLView",
            "style": "IPY_MODEL_34fcac31f0b94313a5c309dcaa6eb871",
            "_dom_classes": [],
            "description": "",
            "_model_name": "HTMLModel",
            "placeholder": "​",
            "_view_module": "@jupyter-widgets/controls",
            "_model_module_version": "1.5.0",
            "value": " 1865/1865 [03:39&lt;00:00,  8.51 MiB/s]",
            "_view_count": null,
            "_view_module_version": "1.5.0",
            "description_tooltip": null,
            "_model_module": "@jupyter-widgets/controls",
            "layout": "IPY_MODEL_38562944ee204935afcf19fc5b40a91e"
          }
        },
        "9b349e4fb3ce450a85812556bb826544": {
          "model_module": "@jupyter-widgets/controls",
          "model_name": "ProgressStyleModel",
          "state": {
            "_view_name": "StyleView",
            "_model_name": "ProgressStyleModel",
            "description_width": "initial",
            "_view_module": "@jupyter-widgets/base",
            "_model_module_version": "1.5.0",
            "_view_count": null,
            "_view_module_version": "1.2.0",
            "bar_color": null,
            "_model_module": "@jupyter-widgets/controls"
          }
        },
        "cc9815d7ee214bf29441cf8efaf2bc1f": {
          "model_module": "@jupyter-widgets/base",
          "model_name": "LayoutModel",
          "state": {
            "_view_name": "LayoutView",
            "grid_template_rows": null,
            "right": null,
            "justify_content": null,
            "_view_module": "@jupyter-widgets/base",
            "overflow": null,
            "_model_module_version": "1.2.0",
            "_view_count": null,
            "flex_flow": null,
            "width": null,
            "min_width": null,
            "border": null,
            "align_items": null,
            "bottom": null,
            "_model_module": "@jupyter-widgets/base",
            "top": null,
            "grid_column": null,
            "overflow_y": null,
            "overflow_x": null,
            "grid_auto_flow": null,
            "grid_area": null,
            "grid_template_columns": null,
            "flex": null,
            "_model_name": "LayoutModel",
            "justify_items": null,
            "grid_row": null,
            "max_height": null,
            "align_content": null,
            "visibility": null,
            "align_self": null,
            "height": null,
            "min_height": null,
            "padding": null,
            "grid_auto_rows": null,
            "grid_gap": null,
            "max_width": null,
            "order": null,
            "_view_module_version": "1.2.0",
            "grid_template_areas": null,
            "object_position": null,
            "object_fit": null,
            "grid_auto_columns": null,
            "margin": null,
            "display": null,
            "left": null
          }
        },
        "34fcac31f0b94313a5c309dcaa6eb871": {
          "model_module": "@jupyter-widgets/controls",
          "model_name": "DescriptionStyleModel",
          "state": {
            "_view_name": "StyleView",
            "_model_name": "DescriptionStyleModel",
            "description_width": "",
            "_view_module": "@jupyter-widgets/base",
            "_model_module_version": "1.5.0",
            "_view_count": null,
            "_view_module_version": "1.2.0",
            "_model_module": "@jupyter-widgets/controls"
          }
        },
        "38562944ee204935afcf19fc5b40a91e": {
          "model_module": "@jupyter-widgets/base",
          "model_name": "LayoutModel",
          "state": {
            "_view_name": "LayoutView",
            "grid_template_rows": null,
            "right": null,
            "justify_content": null,
            "_view_module": "@jupyter-widgets/base",
            "overflow": null,
            "_model_module_version": "1.2.0",
            "_view_count": null,
            "flex_flow": null,
            "width": null,
            "min_width": null,
            "border": null,
            "align_items": null,
            "bottom": null,
            "_model_module": "@jupyter-widgets/base",
            "top": null,
            "grid_column": null,
            "overflow_y": null,
            "overflow_x": null,
            "grid_auto_flow": null,
            "grid_area": null,
            "grid_template_columns": null,
            "flex": null,
            "_model_name": "LayoutModel",
            "justify_items": null,
            "grid_row": null,
            "max_height": null,
            "align_content": null,
            "visibility": null,
            "align_self": null,
            "height": null,
            "min_height": null,
            "padding": null,
            "grid_auto_rows": null,
            "grid_gap": null,
            "max_width": null,
            "order": null,
            "_view_module_version": "1.2.0",
            "grid_template_areas": null,
            "object_position": null,
            "object_fit": null,
            "grid_auto_columns": null,
            "margin": null,
            "display": null,
            "left": null
          }
        },
        "ec2c7a370a4a4cd19286540679f25f96": {
          "model_module": "@jupyter-widgets/controls",
          "model_name": "HBoxModel",
          "state": {
            "_view_name": "HBoxView",
            "_dom_classes": [],
            "_model_name": "HBoxModel",
            "_view_module": "@jupyter-widgets/controls",
            "_model_module_version": "1.5.0",
            "_view_count": null,
            "_view_module_version": "1.5.0",
            "box_style": "",
            "layout": "IPY_MODEL_95cee2fc3a1b47899382f925b5a96017",
            "_model_module": "@jupyter-widgets/controls",
            "children": [
              "IPY_MODEL_74014ad49bf546c29f0b5006e52c8f22",
              "IPY_MODEL_e574675743d3411c83d2b14c1493ba68"
            ]
          }
        },
        "95cee2fc3a1b47899382f925b5a96017": {
          "model_module": "@jupyter-widgets/base",
          "model_name": "LayoutModel",
          "state": {
            "_view_name": "LayoutView",
            "grid_template_rows": null,
            "right": null,
            "justify_content": null,
            "_view_module": "@jupyter-widgets/base",
            "overflow": null,
            "_model_module_version": "1.2.0",
            "_view_count": null,
            "flex_flow": null,
            "width": null,
            "min_width": null,
            "border": null,
            "align_items": null,
            "bottom": null,
            "_model_module": "@jupyter-widgets/base",
            "top": null,
            "grid_column": null,
            "overflow_y": null,
            "overflow_x": null,
            "grid_auto_flow": null,
            "grid_area": null,
            "grid_template_columns": null,
            "flex": null,
            "_model_name": "LayoutModel",
            "justify_items": null,
            "grid_row": null,
            "max_height": null,
            "align_content": null,
            "visibility": null,
            "align_self": null,
            "height": null,
            "min_height": null,
            "padding": null,
            "grid_auto_rows": null,
            "grid_gap": null,
            "max_width": null,
            "order": null,
            "_view_module_version": "1.2.0",
            "grid_template_areas": null,
            "object_position": null,
            "object_fit": null,
            "grid_auto_columns": null,
            "margin": null,
            "display": null,
            "left": null
          }
        },
        "74014ad49bf546c29f0b5006e52c8f22": {
          "model_module": "@jupyter-widgets/controls",
          "model_name": "FloatProgressModel",
          "state": {
            "_view_name": "ProgressView",
            "style": "IPY_MODEL_74c0de6372324ffbb2a7aede9cc1a878",
            "_dom_classes": [],
            "description": "Extraction completed...: 100%",
            "_model_name": "FloatProgressModel",
            "bar_style": "success",
            "max": 1,
            "_view_module": "@jupyter-widgets/controls",
            "_model_module_version": "1.5.0",
            "value": 1,
            "_view_count": null,
            "_view_module_version": "1.5.0",
            "orientation": "horizontal",
            "min": 0,
            "description_tooltip": null,
            "_model_module": "@jupyter-widgets/controls",
            "layout": "IPY_MODEL_301b26128ff3453ba61831fc337706bf"
          }
        },
        "e574675743d3411c83d2b14c1493ba68": {
          "model_module": "@jupyter-widgets/controls",
          "model_name": "HTMLModel",
          "state": {
            "_view_name": "HTMLView",
            "style": "IPY_MODEL_c6dab81bfbf54277a69b6845708e1468",
            "_dom_classes": [],
            "description": "",
            "_model_name": "HTMLModel",
            "placeholder": "​",
            "_view_module": "@jupyter-widgets/controls",
            "_model_module_version": "1.5.0",
            "value": " 3/3 [03:39&lt;00:00, 73.07s/ file]",
            "_view_count": null,
            "_view_module_version": "1.5.0",
            "description_tooltip": null,
            "_model_module": "@jupyter-widgets/controls",
            "layout": "IPY_MODEL_41a767dc64f84dcf8b0d8ae35afd4236"
          }
        },
        "74c0de6372324ffbb2a7aede9cc1a878": {
          "model_module": "@jupyter-widgets/controls",
          "model_name": "ProgressStyleModel",
          "state": {
            "_view_name": "StyleView",
            "_model_name": "ProgressStyleModel",
            "description_width": "initial",
            "_view_module": "@jupyter-widgets/base",
            "_model_module_version": "1.5.0",
            "_view_count": null,
            "_view_module_version": "1.2.0",
            "bar_color": null,
            "_model_module": "@jupyter-widgets/controls"
          }
        },
        "301b26128ff3453ba61831fc337706bf": {
          "model_module": "@jupyter-widgets/base",
          "model_name": "LayoutModel",
          "state": {
            "_view_name": "LayoutView",
            "grid_template_rows": null,
            "right": null,
            "justify_content": null,
            "_view_module": "@jupyter-widgets/base",
            "overflow": null,
            "_model_module_version": "1.2.0",
            "_view_count": null,
            "flex_flow": null,
            "width": null,
            "min_width": null,
            "border": null,
            "align_items": null,
            "bottom": null,
            "_model_module": "@jupyter-widgets/base",
            "top": null,
            "grid_column": null,
            "overflow_y": null,
            "overflow_x": null,
            "grid_auto_flow": null,
            "grid_area": null,
            "grid_template_columns": null,
            "flex": null,
            "_model_name": "LayoutModel",
            "justify_items": null,
            "grid_row": null,
            "max_height": null,
            "align_content": null,
            "visibility": null,
            "align_self": null,
            "height": null,
            "min_height": null,
            "padding": null,
            "grid_auto_rows": null,
            "grid_gap": null,
            "max_width": null,
            "order": null,
            "_view_module_version": "1.2.0",
            "grid_template_areas": null,
            "object_position": null,
            "object_fit": null,
            "grid_auto_columns": null,
            "margin": null,
            "display": null,
            "left": null
          }
        },
        "c6dab81bfbf54277a69b6845708e1468": {
          "model_module": "@jupyter-widgets/controls",
          "model_name": "DescriptionStyleModel",
          "state": {
            "_view_name": "StyleView",
            "_model_name": "DescriptionStyleModel",
            "description_width": "",
            "_view_module": "@jupyter-widgets/base",
            "_model_module_version": "1.5.0",
            "_view_count": null,
            "_view_module_version": "1.2.0",
            "_model_module": "@jupyter-widgets/controls"
          }
        },
        "41a767dc64f84dcf8b0d8ae35afd4236": {
          "model_module": "@jupyter-widgets/base",
          "model_name": "LayoutModel",
          "state": {
            "_view_name": "LayoutView",
            "grid_template_rows": null,
            "right": null,
            "justify_content": null,
            "_view_module": "@jupyter-widgets/base",
            "overflow": null,
            "_model_module_version": "1.2.0",
            "_view_count": null,
            "flex_flow": null,
            "width": null,
            "min_width": null,
            "border": null,
            "align_items": null,
            "bottom": null,
            "_model_module": "@jupyter-widgets/base",
            "top": null,
            "grid_column": null,
            "overflow_y": null,
            "overflow_x": null,
            "grid_auto_flow": null,
            "grid_area": null,
            "grid_template_columns": null,
            "flex": null,
            "_model_name": "LayoutModel",
            "justify_items": null,
            "grid_row": null,
            "max_height": null,
            "align_content": null,
            "visibility": null,
            "align_self": null,
            "height": null,
            "min_height": null,
            "padding": null,
            "grid_auto_rows": null,
            "grid_gap": null,
            "max_width": null,
            "order": null,
            "_view_module_version": "1.2.0",
            "grid_template_areas": null,
            "object_position": null,
            "object_fit": null,
            "grid_auto_columns": null,
            "margin": null,
            "display": null,
            "left": null
          }
        },
        "133428a8b6214ac284e1ce1a93d1d092": {
          "model_module": "@jupyter-widgets/controls",
          "model_name": "HBoxModel",
          "state": {
            "_view_name": "HBoxView",
            "_dom_classes": [],
            "_model_name": "HBoxModel",
            "_view_module": "@jupyter-widgets/controls",
            "_model_module_version": "1.5.0",
            "_view_count": null,
            "_view_module_version": "1.5.0",
            "box_style": "",
            "layout": "IPY_MODEL_c5b4ffd6b2024ef6b7ab64ebda88f7c7",
            "_model_module": "@jupyter-widgets/controls",
            "children": [
              "IPY_MODEL_9e83f112c7e847b8a5963a10ab7508f2",
              "IPY_MODEL_e0c8a56d25324df1ac95749b9ce2f212"
            ]
          }
        },
        "c5b4ffd6b2024ef6b7ab64ebda88f7c7": {
          "model_module": "@jupyter-widgets/base",
          "model_name": "LayoutModel",
          "state": {
            "_view_name": "LayoutView",
            "grid_template_rows": null,
            "right": null,
            "justify_content": null,
            "_view_module": "@jupyter-widgets/base",
            "overflow": null,
            "_model_module_version": "1.2.0",
            "_view_count": null,
            "flex_flow": null,
            "width": null,
            "min_width": null,
            "border": null,
            "align_items": null,
            "bottom": null,
            "_model_module": "@jupyter-widgets/base",
            "top": null,
            "grid_column": null,
            "overflow_y": null,
            "overflow_x": null,
            "grid_auto_flow": null,
            "grid_area": null,
            "grid_template_columns": null,
            "flex": null,
            "_model_name": "LayoutModel",
            "justify_items": null,
            "grid_row": null,
            "max_height": null,
            "align_content": null,
            "visibility": null,
            "align_self": null,
            "height": null,
            "min_height": null,
            "padding": null,
            "grid_auto_rows": null,
            "grid_gap": null,
            "max_width": null,
            "order": null,
            "_view_module_version": "1.2.0",
            "grid_template_areas": null,
            "object_position": null,
            "object_fit": null,
            "grid_auto_columns": null,
            "margin": null,
            "display": null,
            "left": null
          }
        },
        "9e83f112c7e847b8a5963a10ab7508f2": {
          "model_module": "@jupyter-widgets/controls",
          "model_name": "FloatProgressModel",
          "state": {
            "_view_name": "ProgressView",
            "style": "IPY_MODEL_f77f5f2362c14af6b01a4681cc5736f6",
            "_dom_classes": [],
            "description": "",
            "_model_name": "FloatProgressModel",
            "bar_style": "info",
            "max": 1,
            "_view_module": "@jupyter-widgets/controls",
            "_model_module_version": "1.5.0",
            "value": 1,
            "_view_count": null,
            "_view_module_version": "1.5.0",
            "orientation": "horizontal",
            "min": 0,
            "description_tooltip": null,
            "_model_module": "@jupyter-widgets/controls",
            "layout": "IPY_MODEL_664f6162a78341078e5d5723d5df6be8"
          }
        },
        "e0c8a56d25324df1ac95749b9ce2f212": {
          "model_module": "@jupyter-widgets/controls",
          "model_name": "HTMLModel",
          "state": {
            "_view_name": "HTMLView",
            "style": "IPY_MODEL_5c43303dd19643dea755655239ae02df",
            "_dom_classes": [],
            "description": "",
            "_model_name": "HTMLModel",
            "placeholder": "​",
            "_view_module": "@jupyter-widgets/controls",
            "_model_module_version": "1.5.0",
            "value": " 8144/0 [00:09&lt;00:00, 1713.24 examples/s]",
            "_view_count": null,
            "_view_module_version": "1.5.0",
            "description_tooltip": null,
            "_model_module": "@jupyter-widgets/controls",
            "layout": "IPY_MODEL_602f3a68d347496fa67d86c54be9898a"
          }
        },
        "f77f5f2362c14af6b01a4681cc5736f6": {
          "model_module": "@jupyter-widgets/controls",
          "model_name": "ProgressStyleModel",
          "state": {
            "_view_name": "StyleView",
            "_model_name": "ProgressStyleModel",
            "description_width": "initial",
            "_view_module": "@jupyter-widgets/base",
            "_model_module_version": "1.5.0",
            "_view_count": null,
            "_view_module_version": "1.2.0",
            "bar_color": null,
            "_model_module": "@jupyter-widgets/controls"
          }
        },
        "664f6162a78341078e5d5723d5df6be8": {
          "model_module": "@jupyter-widgets/base",
          "model_name": "LayoutModel",
          "state": {
            "_view_name": "LayoutView",
            "grid_template_rows": null,
            "right": null,
            "justify_content": null,
            "_view_module": "@jupyter-widgets/base",
            "overflow": null,
            "_model_module_version": "1.2.0",
            "_view_count": null,
            "flex_flow": null,
            "width": null,
            "min_width": null,
            "border": null,
            "align_items": null,
            "bottom": null,
            "_model_module": "@jupyter-widgets/base",
            "top": null,
            "grid_column": null,
            "overflow_y": null,
            "overflow_x": null,
            "grid_auto_flow": null,
            "grid_area": null,
            "grid_template_columns": null,
            "flex": null,
            "_model_name": "LayoutModel",
            "justify_items": null,
            "grid_row": null,
            "max_height": null,
            "align_content": null,
            "visibility": null,
            "align_self": null,
            "height": null,
            "min_height": null,
            "padding": null,
            "grid_auto_rows": null,
            "grid_gap": null,
            "max_width": null,
            "order": null,
            "_view_module_version": "1.2.0",
            "grid_template_areas": null,
            "object_position": null,
            "object_fit": null,
            "grid_auto_columns": null,
            "margin": null,
            "display": null,
            "left": null
          }
        },
        "5c43303dd19643dea755655239ae02df": {
          "model_module": "@jupyter-widgets/controls",
          "model_name": "DescriptionStyleModel",
          "state": {
            "_view_name": "StyleView",
            "_model_name": "DescriptionStyleModel",
            "description_width": "",
            "_view_module": "@jupyter-widgets/base",
            "_model_module_version": "1.5.0",
            "_view_count": null,
            "_view_module_version": "1.2.0",
            "_model_module": "@jupyter-widgets/controls"
          }
        },
        "602f3a68d347496fa67d86c54be9898a": {
          "model_module": "@jupyter-widgets/base",
          "model_name": "LayoutModel",
          "state": {
            "_view_name": "LayoutView",
            "grid_template_rows": null,
            "right": null,
            "justify_content": null,
            "_view_module": "@jupyter-widgets/base",
            "overflow": null,
            "_model_module_version": "1.2.0",
            "_view_count": null,
            "flex_flow": null,
            "width": null,
            "min_width": null,
            "border": null,
            "align_items": null,
            "bottom": null,
            "_model_module": "@jupyter-widgets/base",
            "top": null,
            "grid_column": null,
            "overflow_y": null,
            "overflow_x": null,
            "grid_auto_flow": null,
            "grid_area": null,
            "grid_template_columns": null,
            "flex": null,
            "_model_name": "LayoutModel",
            "justify_items": null,
            "grid_row": null,
            "max_height": null,
            "align_content": null,
            "visibility": null,
            "align_self": null,
            "height": null,
            "min_height": null,
            "padding": null,
            "grid_auto_rows": null,
            "grid_gap": null,
            "max_width": null,
            "order": null,
            "_view_module_version": "1.2.0",
            "grid_template_areas": null,
            "object_position": null,
            "object_fit": null,
            "grid_auto_columns": null,
            "margin": null,
            "display": null,
            "left": null
          }
        },
        "cc62c31fd3604e9c8b2113eb46898957": {
          "model_module": "@jupyter-widgets/controls",
          "model_name": "HBoxModel",
          "state": {
            "_view_name": "HBoxView",
            "_dom_classes": [],
            "_model_name": "HBoxModel",
            "_view_module": "@jupyter-widgets/controls",
            "_model_module_version": "1.5.0",
            "_view_count": null,
            "_view_module_version": "1.5.0",
            "box_style": "",
            "layout": "IPY_MODEL_1e527748bb344302afbd01d95a3b394a",
            "_model_module": "@jupyter-widgets/controls",
            "children": [
              "IPY_MODEL_c1d73a93fa534efeab694759cc26c8af",
              "IPY_MODEL_33705381daf9444c80fa2c63cf26ea53"
            ]
          }
        },
        "1e527748bb344302afbd01d95a3b394a": {
          "model_module": "@jupyter-widgets/base",
          "model_name": "LayoutModel",
          "state": {
            "_view_name": "LayoutView",
            "grid_template_rows": null,
            "right": null,
            "justify_content": null,
            "_view_module": "@jupyter-widgets/base",
            "overflow": null,
            "_model_module_version": "1.2.0",
            "_view_count": null,
            "flex_flow": null,
            "width": null,
            "min_width": null,
            "border": null,
            "align_items": null,
            "bottom": null,
            "_model_module": "@jupyter-widgets/base",
            "top": null,
            "grid_column": null,
            "overflow_y": null,
            "overflow_x": null,
            "grid_auto_flow": null,
            "grid_area": null,
            "grid_template_columns": null,
            "flex": null,
            "_model_name": "LayoutModel",
            "justify_items": null,
            "grid_row": null,
            "max_height": null,
            "align_content": null,
            "visibility": null,
            "align_self": null,
            "height": null,
            "min_height": null,
            "padding": null,
            "grid_auto_rows": null,
            "grid_gap": null,
            "max_width": null,
            "order": null,
            "_view_module_version": "1.2.0",
            "grid_template_areas": null,
            "object_position": null,
            "object_fit": null,
            "grid_auto_columns": null,
            "margin": null,
            "display": null,
            "left": null
          }
        },
        "c1d73a93fa534efeab694759cc26c8af": {
          "model_module": "@jupyter-widgets/controls",
          "model_name": "FloatProgressModel",
          "state": {
            "_view_name": "ProgressView",
            "style": "IPY_MODEL_bee77721dc824f499d117f0f66843bf5",
            "_dom_classes": [],
            "description": " 99%",
            "_model_name": "FloatProgressModel",
            "bar_style": "danger",
            "max": 8144,
            "_view_module": "@jupyter-widgets/controls",
            "_model_module_version": "1.5.0",
            "value": 8060,
            "_view_count": null,
            "_view_module_version": "1.5.0",
            "orientation": "horizontal",
            "min": 0,
            "description_tooltip": null,
            "_model_module": "@jupyter-widgets/controls",
            "layout": "IPY_MODEL_cb3d5b44508246debadf0de1a69cf115"
          }
        },
        "33705381daf9444c80fa2c63cf26ea53": {
          "model_module": "@jupyter-widgets/controls",
          "model_name": "HTMLModel",
          "state": {
            "_view_name": "HTMLView",
            "style": "IPY_MODEL_935a16aa65554537a42d14701a1f5eb4",
            "_dom_classes": [],
            "description": "",
            "_model_name": "HTMLModel",
            "placeholder": "​",
            "_view_module": "@jupyter-widgets/controls",
            "_model_module_version": "1.5.0",
            "value": " 8060/8144 [00:03&lt;00:00, 2091.55 examples/s]",
            "_view_count": null,
            "_view_module_version": "1.5.0",
            "description_tooltip": null,
            "_model_module": "@jupyter-widgets/controls",
            "layout": "IPY_MODEL_e0b9142674fc4d36a84f5f075839a903"
          }
        },
        "bee77721dc824f499d117f0f66843bf5": {
          "model_module": "@jupyter-widgets/controls",
          "model_name": "ProgressStyleModel",
          "state": {
            "_view_name": "StyleView",
            "_model_name": "ProgressStyleModel",
            "description_width": "initial",
            "_view_module": "@jupyter-widgets/base",
            "_model_module_version": "1.5.0",
            "_view_count": null,
            "_view_module_version": "1.2.0",
            "bar_color": null,
            "_model_module": "@jupyter-widgets/controls"
          }
        },
        "cb3d5b44508246debadf0de1a69cf115": {
          "model_module": "@jupyter-widgets/base",
          "model_name": "LayoutModel",
          "state": {
            "_view_name": "LayoutView",
            "grid_template_rows": null,
            "right": null,
            "justify_content": null,
            "_view_module": "@jupyter-widgets/base",
            "overflow": null,
            "_model_module_version": "1.2.0",
            "_view_count": null,
            "flex_flow": null,
            "width": null,
            "min_width": null,
            "border": null,
            "align_items": null,
            "bottom": null,
            "_model_module": "@jupyter-widgets/base",
            "top": null,
            "grid_column": null,
            "overflow_y": null,
            "overflow_x": null,
            "grid_auto_flow": null,
            "grid_area": null,
            "grid_template_columns": null,
            "flex": null,
            "_model_name": "LayoutModel",
            "justify_items": null,
            "grid_row": null,
            "max_height": null,
            "align_content": null,
            "visibility": null,
            "align_self": null,
            "height": null,
            "min_height": null,
            "padding": null,
            "grid_auto_rows": null,
            "grid_gap": null,
            "max_width": null,
            "order": null,
            "_view_module_version": "1.2.0",
            "grid_template_areas": null,
            "object_position": null,
            "object_fit": null,
            "grid_auto_columns": null,
            "margin": null,
            "display": null,
            "left": null
          }
        },
        "935a16aa65554537a42d14701a1f5eb4": {
          "model_module": "@jupyter-widgets/controls",
          "model_name": "DescriptionStyleModel",
          "state": {
            "_view_name": "StyleView",
            "_model_name": "DescriptionStyleModel",
            "description_width": "",
            "_view_module": "@jupyter-widgets/base",
            "_model_module_version": "1.5.0",
            "_view_count": null,
            "_view_module_version": "1.2.0",
            "_model_module": "@jupyter-widgets/controls"
          }
        },
        "e0b9142674fc4d36a84f5f075839a903": {
          "model_module": "@jupyter-widgets/base",
          "model_name": "LayoutModel",
          "state": {
            "_view_name": "LayoutView",
            "grid_template_rows": null,
            "right": null,
            "justify_content": null,
            "_view_module": "@jupyter-widgets/base",
            "overflow": null,
            "_model_module_version": "1.2.0",
            "_view_count": null,
            "flex_flow": null,
            "width": null,
            "min_width": null,
            "border": null,
            "align_items": null,
            "bottom": null,
            "_model_module": "@jupyter-widgets/base",
            "top": null,
            "grid_column": null,
            "overflow_y": null,
            "overflow_x": null,
            "grid_auto_flow": null,
            "grid_area": null,
            "grid_template_columns": null,
            "flex": null,
            "_model_name": "LayoutModel",
            "justify_items": null,
            "grid_row": null,
            "max_height": null,
            "align_content": null,
            "visibility": null,
            "align_self": null,
            "height": null,
            "min_height": null,
            "padding": null,
            "grid_auto_rows": null,
            "grid_gap": null,
            "max_width": null,
            "order": null,
            "_view_module_version": "1.2.0",
            "grid_template_areas": null,
            "object_position": null,
            "object_fit": null,
            "grid_auto_columns": null,
            "margin": null,
            "display": null,
            "left": null
          }
        },
        "8f28a1e08f5c4bf69e9dc1ac15523bee": {
          "model_module": "@jupyter-widgets/controls",
          "model_name": "HBoxModel",
          "state": {
            "_view_name": "HBoxView",
            "_dom_classes": [],
            "_model_name": "HBoxModel",
            "_view_module": "@jupyter-widgets/controls",
            "_model_module_version": "1.5.0",
            "_view_count": null,
            "_view_module_version": "1.5.0",
            "box_style": "",
            "layout": "IPY_MODEL_2c69536410c34f04a48d31c848ba6bd0",
            "_model_module": "@jupyter-widgets/controls",
            "children": [
              "IPY_MODEL_2b300b5b3ba3403c898fd222782a4e95",
              "IPY_MODEL_e5290693c86e493a9aee667a9f88dcc3"
            ]
          }
        },
        "2c69536410c34f04a48d31c848ba6bd0": {
          "model_module": "@jupyter-widgets/base",
          "model_name": "LayoutModel",
          "state": {
            "_view_name": "LayoutView",
            "grid_template_rows": null,
            "right": null,
            "justify_content": null,
            "_view_module": "@jupyter-widgets/base",
            "overflow": null,
            "_model_module_version": "1.2.0",
            "_view_count": null,
            "flex_flow": null,
            "width": null,
            "min_width": null,
            "border": null,
            "align_items": null,
            "bottom": null,
            "_model_module": "@jupyter-widgets/base",
            "top": null,
            "grid_column": null,
            "overflow_y": null,
            "overflow_x": null,
            "grid_auto_flow": null,
            "grid_area": null,
            "grid_template_columns": null,
            "flex": null,
            "_model_name": "LayoutModel",
            "justify_items": null,
            "grid_row": null,
            "max_height": null,
            "align_content": null,
            "visibility": null,
            "align_self": null,
            "height": null,
            "min_height": null,
            "padding": null,
            "grid_auto_rows": null,
            "grid_gap": null,
            "max_width": null,
            "order": null,
            "_view_module_version": "1.2.0",
            "grid_template_areas": null,
            "object_position": null,
            "object_fit": null,
            "grid_auto_columns": null,
            "margin": null,
            "display": null,
            "left": null
          }
        },
        "2b300b5b3ba3403c898fd222782a4e95": {
          "model_module": "@jupyter-widgets/controls",
          "model_name": "FloatProgressModel",
          "state": {
            "_view_name": "ProgressView",
            "style": "IPY_MODEL_d10315f56f324a109463c54e6d5d0dce",
            "_dom_classes": [],
            "description": "",
            "_model_name": "FloatProgressModel",
            "bar_style": "info",
            "max": 1,
            "_view_module": "@jupyter-widgets/controls",
            "_model_module_version": "1.5.0",
            "value": 1,
            "_view_count": null,
            "_view_module_version": "1.5.0",
            "orientation": "horizontal",
            "min": 0,
            "description_tooltip": null,
            "_model_module": "@jupyter-widgets/controls",
            "layout": "IPY_MODEL_3704a529a44b4b28936f0f381607fbdd"
          }
        },
        "e5290693c86e493a9aee667a9f88dcc3": {
          "model_module": "@jupyter-widgets/controls",
          "model_name": "HTMLModel",
          "state": {
            "_view_name": "HTMLView",
            "style": "IPY_MODEL_d1ab9f7871124053ae96cbc7221c75cb",
            "_dom_classes": [],
            "description": "",
            "_model_name": "HTMLModel",
            "placeholder": "​",
            "_view_module": "@jupyter-widgets/controls",
            "_model_module_version": "1.5.0",
            "value": " 8041/0 [00:08&lt;00:00, 1714.84 examples/s]",
            "_view_count": null,
            "_view_module_version": "1.5.0",
            "description_tooltip": null,
            "_model_module": "@jupyter-widgets/controls",
            "layout": "IPY_MODEL_ce3a9d228e6042dc8a522d5b17bb12b0"
          }
        },
        "d10315f56f324a109463c54e6d5d0dce": {
          "model_module": "@jupyter-widgets/controls",
          "model_name": "ProgressStyleModel",
          "state": {
            "_view_name": "StyleView",
            "_model_name": "ProgressStyleModel",
            "description_width": "initial",
            "_view_module": "@jupyter-widgets/base",
            "_model_module_version": "1.5.0",
            "_view_count": null,
            "_view_module_version": "1.2.0",
            "bar_color": null,
            "_model_module": "@jupyter-widgets/controls"
          }
        },
        "3704a529a44b4b28936f0f381607fbdd": {
          "model_module": "@jupyter-widgets/base",
          "model_name": "LayoutModel",
          "state": {
            "_view_name": "LayoutView",
            "grid_template_rows": null,
            "right": null,
            "justify_content": null,
            "_view_module": "@jupyter-widgets/base",
            "overflow": null,
            "_model_module_version": "1.2.0",
            "_view_count": null,
            "flex_flow": null,
            "width": null,
            "min_width": null,
            "border": null,
            "align_items": null,
            "bottom": null,
            "_model_module": "@jupyter-widgets/base",
            "top": null,
            "grid_column": null,
            "overflow_y": null,
            "overflow_x": null,
            "grid_auto_flow": null,
            "grid_area": null,
            "grid_template_columns": null,
            "flex": null,
            "_model_name": "LayoutModel",
            "justify_items": null,
            "grid_row": null,
            "max_height": null,
            "align_content": null,
            "visibility": null,
            "align_self": null,
            "height": null,
            "min_height": null,
            "padding": null,
            "grid_auto_rows": null,
            "grid_gap": null,
            "max_width": null,
            "order": null,
            "_view_module_version": "1.2.0",
            "grid_template_areas": null,
            "object_position": null,
            "object_fit": null,
            "grid_auto_columns": null,
            "margin": null,
            "display": null,
            "left": null
          }
        },
        "d1ab9f7871124053ae96cbc7221c75cb": {
          "model_module": "@jupyter-widgets/controls",
          "model_name": "DescriptionStyleModel",
          "state": {
            "_view_name": "StyleView",
            "_model_name": "DescriptionStyleModel",
            "description_width": "",
            "_view_module": "@jupyter-widgets/base",
            "_model_module_version": "1.5.0",
            "_view_count": null,
            "_view_module_version": "1.2.0",
            "_model_module": "@jupyter-widgets/controls"
          }
        },
        "ce3a9d228e6042dc8a522d5b17bb12b0": {
          "model_module": "@jupyter-widgets/base",
          "model_name": "LayoutModel",
          "state": {
            "_view_name": "LayoutView",
            "grid_template_rows": null,
            "right": null,
            "justify_content": null,
            "_view_module": "@jupyter-widgets/base",
            "overflow": null,
            "_model_module_version": "1.2.0",
            "_view_count": null,
            "flex_flow": null,
            "width": null,
            "min_width": null,
            "border": null,
            "align_items": null,
            "bottom": null,
            "_model_module": "@jupyter-widgets/base",
            "top": null,
            "grid_column": null,
            "overflow_y": null,
            "overflow_x": null,
            "grid_auto_flow": null,
            "grid_area": null,
            "grid_template_columns": null,
            "flex": null,
            "_model_name": "LayoutModel",
            "justify_items": null,
            "grid_row": null,
            "max_height": null,
            "align_content": null,
            "visibility": null,
            "align_self": null,
            "height": null,
            "min_height": null,
            "padding": null,
            "grid_auto_rows": null,
            "grid_gap": null,
            "max_width": null,
            "order": null,
            "_view_module_version": "1.2.0",
            "grid_template_areas": null,
            "object_position": null,
            "object_fit": null,
            "grid_auto_columns": null,
            "margin": null,
            "display": null,
            "left": null
          }
        },
        "971aeede59d74ef1b293dcdb047e7979": {
          "model_module": "@jupyter-widgets/controls",
          "model_name": "HBoxModel",
          "state": {
            "_view_name": "HBoxView",
            "_dom_classes": [],
            "_model_name": "HBoxModel",
            "_view_module": "@jupyter-widgets/controls",
            "_model_module_version": "1.5.0",
            "_view_count": null,
            "_view_module_version": "1.5.0",
            "box_style": "",
            "layout": "IPY_MODEL_44a3f668f87e4c16b7692ce9c3f6bb6c",
            "_model_module": "@jupyter-widgets/controls",
            "children": [
              "IPY_MODEL_32658e0bb93a4dc4834a09a38e7db3aa",
              "IPY_MODEL_e2a2a00eb285451498222cf8e001b6ec"
            ]
          }
        },
        "44a3f668f87e4c16b7692ce9c3f6bb6c": {
          "model_module": "@jupyter-widgets/base",
          "model_name": "LayoutModel",
          "state": {
            "_view_name": "LayoutView",
            "grid_template_rows": null,
            "right": null,
            "justify_content": null,
            "_view_module": "@jupyter-widgets/base",
            "overflow": null,
            "_model_module_version": "1.2.0",
            "_view_count": null,
            "flex_flow": null,
            "width": null,
            "min_width": null,
            "border": null,
            "align_items": null,
            "bottom": null,
            "_model_module": "@jupyter-widgets/base",
            "top": null,
            "grid_column": null,
            "overflow_y": null,
            "overflow_x": null,
            "grid_auto_flow": null,
            "grid_area": null,
            "grid_template_columns": null,
            "flex": null,
            "_model_name": "LayoutModel",
            "justify_items": null,
            "grid_row": null,
            "max_height": null,
            "align_content": null,
            "visibility": null,
            "align_self": null,
            "height": null,
            "min_height": null,
            "padding": null,
            "grid_auto_rows": null,
            "grid_gap": null,
            "max_width": null,
            "order": null,
            "_view_module_version": "1.2.0",
            "grid_template_areas": null,
            "object_position": null,
            "object_fit": null,
            "grid_auto_columns": null,
            "margin": null,
            "display": null,
            "left": null
          }
        },
        "32658e0bb93a4dc4834a09a38e7db3aa": {
          "model_module": "@jupyter-widgets/controls",
          "model_name": "FloatProgressModel",
          "state": {
            "_view_name": "ProgressView",
            "style": "IPY_MODEL_9c1eee191afa4d5dafa8653b813ca2b7",
            "_dom_classes": [],
            "description": " 98%",
            "_model_name": "FloatProgressModel",
            "bar_style": "danger",
            "max": 8041,
            "_view_module": "@jupyter-widgets/controls",
            "_model_module_version": "1.5.0",
            "value": 7855,
            "_view_count": null,
            "_view_module_version": "1.5.0",
            "orientation": "horizontal",
            "min": 0,
            "description_tooltip": null,
            "_model_module": "@jupyter-widgets/controls",
            "layout": "IPY_MODEL_cf311f7bd84d4c589550e3bb8b754f12"
          }
        },
        "e2a2a00eb285451498222cf8e001b6ec": {
          "model_module": "@jupyter-widgets/controls",
          "model_name": "HTMLModel",
          "state": {
            "_view_name": "HTMLView",
            "style": "IPY_MODEL_3d115c251ccd42edb63d921ae79fc80a",
            "_dom_classes": [],
            "description": "",
            "_model_name": "HTMLModel",
            "placeholder": "​",
            "_view_module": "@jupyter-widgets/controls",
            "_model_module_version": "1.5.0",
            "value": " 7855/8041 [00:30&lt;00:00, 202.43 examples/s]",
            "_view_count": null,
            "_view_module_version": "1.5.0",
            "description_tooltip": null,
            "_model_module": "@jupyter-widgets/controls",
            "layout": "IPY_MODEL_3d3b91293a904714870a3f52c2a84070"
          }
        },
        "9c1eee191afa4d5dafa8653b813ca2b7": {
          "model_module": "@jupyter-widgets/controls",
          "model_name": "ProgressStyleModel",
          "state": {
            "_view_name": "StyleView",
            "_model_name": "ProgressStyleModel",
            "description_width": "initial",
            "_view_module": "@jupyter-widgets/base",
            "_model_module_version": "1.5.0",
            "_view_count": null,
            "_view_module_version": "1.2.0",
            "bar_color": null,
            "_model_module": "@jupyter-widgets/controls"
          }
        },
        "cf311f7bd84d4c589550e3bb8b754f12": {
          "model_module": "@jupyter-widgets/base",
          "model_name": "LayoutModel",
          "state": {
            "_view_name": "LayoutView",
            "grid_template_rows": null,
            "right": null,
            "justify_content": null,
            "_view_module": "@jupyter-widgets/base",
            "overflow": null,
            "_model_module_version": "1.2.0",
            "_view_count": null,
            "flex_flow": null,
            "width": null,
            "min_width": null,
            "border": null,
            "align_items": null,
            "bottom": null,
            "_model_module": "@jupyter-widgets/base",
            "top": null,
            "grid_column": null,
            "overflow_y": null,
            "overflow_x": null,
            "grid_auto_flow": null,
            "grid_area": null,
            "grid_template_columns": null,
            "flex": null,
            "_model_name": "LayoutModel",
            "justify_items": null,
            "grid_row": null,
            "max_height": null,
            "align_content": null,
            "visibility": null,
            "align_self": null,
            "height": null,
            "min_height": null,
            "padding": null,
            "grid_auto_rows": null,
            "grid_gap": null,
            "max_width": null,
            "order": null,
            "_view_module_version": "1.2.0",
            "grid_template_areas": null,
            "object_position": null,
            "object_fit": null,
            "grid_auto_columns": null,
            "margin": null,
            "display": null,
            "left": null
          }
        },
        "3d115c251ccd42edb63d921ae79fc80a": {
          "model_module": "@jupyter-widgets/controls",
          "model_name": "DescriptionStyleModel",
          "state": {
            "_view_name": "StyleView",
            "_model_name": "DescriptionStyleModel",
            "description_width": "",
            "_view_module": "@jupyter-widgets/base",
            "_model_module_version": "1.5.0",
            "_view_count": null,
            "_view_module_version": "1.2.0",
            "_model_module": "@jupyter-widgets/controls"
          }
        },
        "3d3b91293a904714870a3f52c2a84070": {
          "model_module": "@jupyter-widgets/base",
          "model_name": "LayoutModel",
          "state": {
            "_view_name": "LayoutView",
            "grid_template_rows": null,
            "right": null,
            "justify_content": null,
            "_view_module": "@jupyter-widgets/base",
            "overflow": null,
            "_model_module_version": "1.2.0",
            "_view_count": null,
            "flex_flow": null,
            "width": null,
            "min_width": null,
            "border": null,
            "align_items": null,
            "bottom": null,
            "_model_module": "@jupyter-widgets/base",
            "top": null,
            "grid_column": null,
            "overflow_y": null,
            "overflow_x": null,
            "grid_auto_flow": null,
            "grid_area": null,
            "grid_template_columns": null,
            "flex": null,
            "_model_name": "LayoutModel",
            "justify_items": null,
            "grid_row": null,
            "max_height": null,
            "align_content": null,
            "visibility": null,
            "align_self": null,
            "height": null,
            "min_height": null,
            "padding": null,
            "grid_auto_rows": null,
            "grid_gap": null,
            "max_width": null,
            "order": null,
            "_view_module_version": "1.2.0",
            "grid_template_areas": null,
            "object_position": null,
            "object_fit": null,
            "grid_auto_columns": null,
            "margin": null,
            "display": null,
            "left": null
          }
        }
      }
    }
  },
  "cells": [
    {
      "cell_type": "markdown",
      "metadata": {
        "id": "view-in-github",
        "colab_type": "text"
      },
      "source": [
        "<a href=\"https://colab.research.google.com/github/Joefamouze/Machine_learning/blob/master/Fellowshipai_Jonathan.ipynb\" target=\"_parent\"><img src=\"https://colab.research.google.com/assets/colab-badge.svg\" alt=\"Open In Colab\"/></a>"
      ]
    },
    {
      "cell_type": "markdown",
      "metadata": {
        "id": "ie_JeIKTB_Q3"
      },
      "source": [
        "# Citation\n",
        "3D Object Representations for Fine-Grained Categorization\n",
        "       Jonathan Krause, Michael Stark, Jia Deng, Li Fei-Fei\n",
        "       4th IEEE Workshop on 3D Representation and Recognition, at ICCV 2013 (3dRR-13). Sydney, Australia. Dec. 8, 2013.\n",
        "      \n",
        "      "
      ]
    },
    {
      "cell_type": "markdown",
      "metadata": {
        "id": "4PJq1wJqCs-8"
      },
      "source": [
        "# Task\n",
        "Building a computer vision model with Car dataset, using ResNet as base model for transfer learning.\n",
        "Visualizing the layer activations using GRADCAM  for mislabeled images."
      ]
    },
    {
      "cell_type": "code",
      "metadata": {
        "id": "Vglqj8u1FIK_"
      },
      "source": [
        "import tensorflow as tf\n",
        "import tensorflow_hub as hub\n",
        "import tensorflow_datasets as tfds\n",
        "import numpy as np\n",
        "import matplotlib.pyplot as plt\n"
      ],
      "execution_count": 1,
      "outputs": []
    },
    {
      "cell_type": "code",
      "metadata": {
        "colab": {
          "base_uri": "https://localhost:8080/",
          "height": 375,
          "referenced_widgets": [
            "59533fb1c5da4606b1392b21dfd6bd24",
            "d8c0a2c13f214cc5a753d2948e4d9b0b",
            "8640d1e847504cfeb798e2dd50d22853",
            "213156e5d1e94f1ba5a4377f9b911f32",
            "24ff39af4df549539566aa332e9fca95",
            "f1e0c5344052457fb2f1e700194a21fc",
            "7746097a36d840c2bebaaba71d23974a",
            "41199a4a97484c9684df2fcdc9710664",
            "f70fe2a54fa04d96986f2e15c3261efe",
            "b404226ee0fb4e57acf2837fdc6648f2",
            "664b76cf3b4b4918a8892dfa56753dae",
            "43e83944c0f54c5889d22a6ff1576c87",
            "9b349e4fb3ce450a85812556bb826544",
            "cc9815d7ee214bf29441cf8efaf2bc1f",
            "34fcac31f0b94313a5c309dcaa6eb871",
            "38562944ee204935afcf19fc5b40a91e",
            "ec2c7a370a4a4cd19286540679f25f96",
            "95cee2fc3a1b47899382f925b5a96017",
            "74014ad49bf546c29f0b5006e52c8f22",
            "e574675743d3411c83d2b14c1493ba68",
            "74c0de6372324ffbb2a7aede9cc1a878",
            "301b26128ff3453ba61831fc337706bf",
            "c6dab81bfbf54277a69b6845708e1468",
            "41a767dc64f84dcf8b0d8ae35afd4236",
            "133428a8b6214ac284e1ce1a93d1d092",
            "c5b4ffd6b2024ef6b7ab64ebda88f7c7",
            "9e83f112c7e847b8a5963a10ab7508f2",
            "e0c8a56d25324df1ac95749b9ce2f212",
            "f77f5f2362c14af6b01a4681cc5736f6",
            "664f6162a78341078e5d5723d5df6be8",
            "5c43303dd19643dea755655239ae02df",
            "602f3a68d347496fa67d86c54be9898a",
            "cc62c31fd3604e9c8b2113eb46898957",
            "1e527748bb344302afbd01d95a3b394a",
            "c1d73a93fa534efeab694759cc26c8af",
            "33705381daf9444c80fa2c63cf26ea53",
            "bee77721dc824f499d117f0f66843bf5",
            "cb3d5b44508246debadf0de1a69cf115",
            "935a16aa65554537a42d14701a1f5eb4",
            "e0b9142674fc4d36a84f5f075839a903",
            "8f28a1e08f5c4bf69e9dc1ac15523bee",
            "2c69536410c34f04a48d31c848ba6bd0",
            "2b300b5b3ba3403c898fd222782a4e95",
            "e5290693c86e493a9aee667a9f88dcc3",
            "d10315f56f324a109463c54e6d5d0dce",
            "3704a529a44b4b28936f0f381607fbdd",
            "d1ab9f7871124053ae96cbc7221c75cb",
            "ce3a9d228e6042dc8a522d5b17bb12b0",
            "971aeede59d74ef1b293dcdb047e7979",
            "44a3f668f87e4c16b7692ce9c3f6bb6c",
            "32658e0bb93a4dc4834a09a38e7db3aa",
            "e2a2a00eb285451498222cf8e001b6ec",
            "9c1eee191afa4d5dafa8653b813ca2b7",
            "cf311f7bd84d4c589550e3bb8b754f12",
            "3d115c251ccd42edb63d921ae79fc80a",
            "3d3b91293a904714870a3f52c2a84070"
          ]
        },
        "id": "eO70vYqsCmB4",
        "outputId": "01ff60ef-1c3e-494b-b6ba-56410d429708"
      },
      "source": [
        "# Data processing, getting data and preparing a pipeline to feed the model\n",
        "(train_dataset, test_dataset), dataset_info = tfds.load(\n",
        "    'Cars196', split=['train', 'test'], with_info=True, as_supervised=True)\n",
        "\n"
      ],
      "execution_count": 2,
      "outputs": [
        {
          "output_type": "stream",
          "text": [
            "\u001b[1mDownloading and preparing dataset cars196/2.0.0 (download: 1.82 GiB, generated: Unknown size, total: 1.82 GiB) to /root/tensorflow_datasets/cars196/2.0.0...\u001b[0m\n"
          ],
          "name": "stdout"
        },
        {
          "output_type": "display_data",
          "data": {
            "application/vnd.jupyter.widget-view+json": {
              "model_id": "59533fb1c5da4606b1392b21dfd6bd24",
              "version_minor": 0,
              "version_major": 2
            },
            "text/plain": [
              "HBox(children=(FloatProgress(value=1.0, bar_style='info', description='Dl Completed...', max=1.0, style=Progre…"
            ]
          },
          "metadata": {
            "tags": []
          }
        },
        {
          "output_type": "display_data",
          "data": {
            "application/vnd.jupyter.widget-view+json": {
              "model_id": "f70fe2a54fa04d96986f2e15c3261efe",
              "version_minor": 0,
              "version_major": 2
            },
            "text/plain": [
              "HBox(children=(FloatProgress(value=1.0, bar_style='info', description='Dl Size...', max=1.0, style=ProgressSty…"
            ]
          },
          "metadata": {
            "tags": []
          }
        },
        {
          "output_type": "display_data",
          "data": {
            "application/vnd.jupyter.widget-view+json": {
              "model_id": "ec2c7a370a4a4cd19286540679f25f96",
              "version_minor": 0,
              "version_major": 2
            },
            "text/plain": [
              "HBox(children=(FloatProgress(value=1.0, bar_style='info', description='Extraction completed...', max=1.0, styl…"
            ]
          },
          "metadata": {
            "tags": []
          }
        },
        {
          "output_type": "stream",
          "text": [
            "\n",
            "\n",
            "\n",
            "\n",
            "\n",
            "\n"
          ],
          "name": "stdout"
        },
        {
          "output_type": "display_data",
          "data": {
            "application/vnd.jupyter.widget-view+json": {
              "model_id": "133428a8b6214ac284e1ce1a93d1d092",
              "version_minor": 0,
              "version_major": 2
            },
            "text/plain": [
              "HBox(children=(FloatProgress(value=1.0, bar_style='info', max=1.0), HTML(value='')))"
            ]
          },
          "metadata": {
            "tags": []
          }
        },
        {
          "output_type": "stream",
          "text": [
            "\rShuffling and writing examples to /root/tensorflow_datasets/cars196/2.0.0.incomplete6TKCXW/cars196-train.tfrecord\n"
          ],
          "name": "stdout"
        },
        {
          "output_type": "display_data",
          "data": {
            "application/vnd.jupyter.widget-view+json": {
              "model_id": "cc62c31fd3604e9c8b2113eb46898957",
              "version_minor": 0,
              "version_major": 2
            },
            "text/plain": [
              "HBox(children=(FloatProgress(value=0.0, max=8144.0), HTML(value='')))"
            ]
          },
          "metadata": {
            "tags": []
          }
        },
        {
          "output_type": "stream",
          "text": [
            "\r"
          ],
          "name": "stdout"
        },
        {
          "output_type": "display_data",
          "data": {
            "application/vnd.jupyter.widget-view+json": {
              "model_id": "8f28a1e08f5c4bf69e9dc1ac15523bee",
              "version_minor": 0,
              "version_major": 2
            },
            "text/plain": [
              "HBox(children=(FloatProgress(value=1.0, bar_style='info', max=1.0), HTML(value='')))"
            ]
          },
          "metadata": {
            "tags": []
          }
        },
        {
          "output_type": "stream",
          "text": [
            "\rShuffling and writing examples to /root/tensorflow_datasets/cars196/2.0.0.incomplete6TKCXW/cars196-test.tfrecord\n"
          ],
          "name": "stdout"
        },
        {
          "output_type": "display_data",
          "data": {
            "application/vnd.jupyter.widget-view+json": {
              "model_id": "971aeede59d74ef1b293dcdb047e7979",
              "version_minor": 0,
              "version_major": 2
            },
            "text/plain": [
              "HBox(children=(FloatProgress(value=0.0, max=8041.0), HTML(value='')))"
            ]
          },
          "metadata": {
            "tags": []
          }
        },
        {
          "output_type": "stream",
          "text": [
            "\u001b[1mDataset cars196 downloaded and prepared to /root/tensorflow_datasets/cars196/2.0.0. Subsequent calls will reuse this data.\u001b[0m\n"
          ],
          "name": "stdout"
        }
      ]
    },
    {
      "cell_type": "code",
      "metadata": {
        "colab": {
          "base_uri": "https://localhost:8080/"
        },
        "id": "Atjo8sA997fW",
        "outputId": "ab77cc10-5bbf-419f-f35c-ca410672e7a9"
      },
      "source": [
        "num_train_example = dataset_info.splits['train'].num_examples\n",
        "print('Image features:', dataset_info.features['image'])\n",
        "print('Label features:', dataset_info.features['label'])\n",
        "print('Number of training examples:', dataset_info.splits['train'].num_examples)\n"
      ],
      "execution_count": 3,
      "outputs": [
        {
          "output_type": "stream",
          "text": [
            "Image features: Image(shape=(None, None, 3), dtype=tf.uint8)\n",
            "Label features: ClassLabel(shape=(), dtype=tf.int64, num_classes=196)\n",
            "Number of training examples: 8144\n"
          ],
          "name": "stdout"
        }
      ]
    },
    {
      "cell_type": "code",
      "metadata": {
        "colab": {
          "base_uri": "https://localhost:8080/",
          "height": 439
        },
        "id": "_IU7yaCkUSfG",
        "outputId": "4537e9fe-d1ca-4b58-f6bf-84abca5d6be3"
      },
      "source": [
        "# Visualizing the dataset\n",
        "\n",
        "tfds.as_dataframe(train_dataset.take(4), dataset_info)\n",
        " "
      ],
      "execution_count": 4,
      "outputs": [
        {
          "output_type": "execute_result",
          "data": {
            "text/html": [
              "<style  type=\"text/css\" >\n",
              "</style><table id=\"T_872e08f6_99fb_11eb_a845_0242ac1c0002\" ><thead>    <tr>        <th class=\"blank level0\" ></th>        <th class=\"col_heading level0 col0\" >image</th>        <th class=\"col_heading level0 col1\" >label</th>    </tr></thead><tbody>\n",
              "                <tr>\n",
              "                        <th id=\"T_872e08f6_99fb_11eb_a845_0242ac1c0002level0_row0\" class=\"row_heading level0 row0\" >0</th>\n",
              "                        <td id=\"T_872e08f6_99fb_11eb_a845_0242ac1c0002row0_col0\" class=\"data row0 col0\" ><img src=\"data:image/png;base64,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\" alt=\"Img\" /></td>\n",
              "                        <td id=\"T_872e08f6_99fb_11eb_a845_0242ac1c0002row0_col1\" class=\"data row0 col1\" >194 (Volvo XC90 SUV 2007)</td>\n",
              "            </tr>\n",
              "            <tr>\n",
              "                        <th id=\"T_872e08f6_99fb_11eb_a845_0242ac1c0002level0_row1\" class=\"row_heading level0 row1\" >1</th>\n",
              "                        <td id=\"T_872e08f6_99fb_11eb_a845_0242ac1c0002row1_col0\" class=\"data row1 col0\" ><img src=\"data:image/png;base64,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\" alt=\"Img\" /></td>\n",
              "                        <td id=\"T_872e08f6_99fb_11eb_a845_0242ac1c0002row1_col1\" class=\"data row1 col1\" >182 (Suzuki SX4 Hatchback 2012)</td>\n",
              "            </tr>\n",
              "            <tr>\n",
              "                        <th id=\"T_872e08f6_99fb_11eb_a845_0242ac1c0002level0_row2\" class=\"row_heading level0 row2\" >2</th>\n",
              "                        <td id=\"T_872e08f6_99fb_11eb_a845_0242ac1c0002row2_col0\" class=\"data row2 col0\" ><img src=\"data:image/png;base64,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\" alt=\"Img\" /></td>\n",
              "                        <td id=\"T_872e08f6_99fb_11eb_a845_0242ac1c0002row2_col1\" class=\"data row2 col1\" >190 (Volkswagen Golf Hatchback 1991)</td>\n",
              "            </tr>\n",
              "            <tr>\n",
              "                        <th id=\"T_872e08f6_99fb_11eb_a845_0242ac1c0002level0_row3\" class=\"row_heading level0 row3\" >3</th>\n",
              "                        <td id=\"T_872e08f6_99fb_11eb_a845_0242ac1c0002row3_col0\" class=\"data row3 col0\" ><img src=\"data:image/png;base64,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\" alt=\"Img\" /></td>\n",
              "                        <td id=\"T_872e08f6_99fb_11eb_a845_0242ac1c0002row3_col1\" class=\"data row3 col1\" >124 (HUMMER H2 SUT Crew Cab 2009)</td>\n",
              "            </tr>\n",
              "    </tbody></table>"
            ],
            "text/plain": [
              "                                               image  label\n",
              "0  [[[147, 147, 147], [147, 147, 147], [148, 148,...    194\n",
              "1  [[[158, 184, 201], [158, 184, 201], [158, 184,...    182\n",
              "2  [[[185, 184, 153], [169, 175, 165], [145, 149,...    190\n",
              "3  [[[250, 255, 248], [250, 255, 248], [250, 255,...    124"
            ]
          },
          "metadata": {
            "tags": []
          },
          "execution_count": 4
        }
      ]
    },
    {
      "cell_type": "code",
      "metadata": {
        "id": "hrJFlALOOM7K"
      },
      "source": [
        "IMAGE_RES = 224\n",
        "\n",
        "def format_image(image, label):\n",
        "  image = tf.image.resize(image, (IMAGE_RES, IMAGE_RES))/255.0\n",
        "  return image, label\n",
        "\n",
        "BATCH_SIZE = 32"
      ],
      "execution_count": 5,
      "outputs": []
    },
    {
      "cell_type": "markdown",
      "metadata": {
        "id": "llFbebilFcIL"
      },
      "source": [
        "# Optimizing training\n",
        "Due to the size of my dataset, I will be using some optimization techniques to speed up training time. \n",
        "I will do this through the following steps\n",
        "\n",
        "1.   Shuffling the dataset\n",
        "2.   Using the map function\n",
        "3.   Batching the dataset\n",
        "4.   Using the prefetch method\n",
        "5.   And caching the dataset\n",
        "\n",
        "\n",
        "\n",
        "\n",
        "\n"
      ]
    },
    {
      "cell_type": "code",
      "metadata": {
        "id": "I9rDV2IzErhJ"
      },
      "source": [
        "train_dataset = train_dataset.shuffle(buffer_size=num_train_example//8).map(format_image).batch(BATCH_SIZE).prefetch(tf.data.experimental.AUTOTUNE).cache()"
      ],
      "execution_count": 6,
      "outputs": []
    },
    {
      "cell_type": "markdown",
      "metadata": {
        "id": "pJ8lNeSULiWk"
      },
      "source": [
        "# Transfer learning"
      ]
    },
    {
      "cell_type": "code",
      "metadata": {
        "id": "QaDV0YS8Lh7m"
      },
      "source": [
        "URL = \"https://tfhub.dev/google/imagenet/resnet_v1_101/classification/4\"\n",
        "feature_extractor = hub.KerasLayer(URL, input_shape=(IMAGE_RES, IMAGE_RES, 3))\n",
        "\n",
        "feature_extractor.trainable = False"
      ],
      "execution_count": 7,
      "outputs": []
    },
    {
      "cell_type": "code",
      "metadata": {
        "colab": {
          "base_uri": "https://localhost:8080/"
        },
        "id": "P8SWRXTCP1p7",
        "outputId": "edb9e3c7-6e8d-4550-8faf-f8280f82f2a6"
      },
      "source": [
        "model = tf.keras.Sequential([\n",
        "              feature_extractor,\n",
        "              tf.keras.layers.Dense(196, activation='softmax')\n",
        "])\n",
        "model.summary()"
      ],
      "execution_count": 8,
      "outputs": [
        {
          "output_type": "stream",
          "text": [
            "Model: \"sequential\"\n",
            "_________________________________________________________________\n",
            "Layer (type)                 Output Shape              Param #   \n",
            "=================================================================\n",
            "keras_layer (KerasLayer)     (None, 1001)              44656553  \n",
            "_________________________________________________________________\n",
            "dense (Dense)                (None, 196)               196392    \n",
            "=================================================================\n",
            "Total params: 44,852,945\n",
            "Trainable params: 196,392\n",
            "Non-trainable params: 44,656,553\n",
            "_________________________________________________________________\n"
          ],
          "name": "stdout"
        }
      ]
    },
    {
      "cell_type": "code",
      "metadata": {
        "id": "wvXtcTyvQcL-"
      },
      "source": [
        "model.compile(\n",
        "    optimizer = 'adam',\n",
        "    loss=tf.keras.losses.SparseCategoricalCrossentropy(from_logits=True),\n",
        "    metrics=['accuracy']\n",
        ")\n",
        "\n"
      ],
      "execution_count": 9,
      "outputs": []
    },
    {
      "cell_type": "code",
      "metadata": {
        "colab": {
          "base_uri": "https://localhost:8080/"
        },
        "id": "GTOwF-5pR52B",
        "outputId": "35da59d1-bc7d-4a8f-c929-1f40d92b5678"
      },
      "source": [
        "history = model.fit(train_dataset, epochs=10)"
      ],
      "execution_count": null,
      "outputs": [
        {
          "output_type": "stream",
          "text": [
            "Epoch 1/10\n",
            "215/255 [========================>.....] - ETA: 6s - loss: 5.2924 - accuracy: 0.0637"
          ],
          "name": "stdout"
        }
      ]
    },
    {
      "cell_type": "code",
      "metadata": {
        "id": "TVjGYq6RSDyR"
      },
      "source": [
        ""
      ],
      "execution_count": null,
      "outputs": []
    },
    {
      "cell_type": "markdown",
      "metadata": {
        "id": "V8RYA0fey9R7"
      },
      "source": [
        "# Steps to increase accuracy\n",
        "\n",
        "1.  The foremost way to increase a model's accuracy is to improve on the data. One can do this by making sure the data is well label,\n",
        "and augumented if dataset is very small.\n",
        "2.   Feature engineering\n",
        "3.   Tuning the hyperparameters.\n",
        "\n"
      ]
    },
    {
      "cell_type": "code",
      "metadata": {
        "id": "OB90xFeC0YDw"
      },
      "source": [
        ""
      ],
      "execution_count": null,
      "outputs": []
    }
  ]
}